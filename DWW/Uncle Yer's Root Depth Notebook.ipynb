{
 "metadata": {
  "kernelspec": {
   "display_name": "Streamlit Notebook",
   "name": "streamlit"
  }
 },
 "nbformat_minor": 5,
 "nbformat": 4,
 "cells": [
  {
   "cell_type": "markdown",
   "id": "ecaf90bd-1608-41b7-b5d8-eb5a81cbfd4d",
   "metadata": {
    "name": "Title_Cell",
    "collapsed": false
   },
   "source": "# Add Rows to Flower Detail Table\n\nEdit the \"set\" cells to update the variabls, then click \"Run All\" in the top left-corner."
  },
  {
   "cell_type": "code",
   "id": "b7189c01-6df4-4a37-b0da-1d14f81491fd",
   "metadata": {
    "language": "sql",
    "name": "set_root_depth_code",
    "collapsed": false
   },
   "outputs": [],
   "source": "set rdc = 'M';",
   "execution_count": null
  },
  {
   "cell_type": "code",
   "id": "389755e1-4924-4a58-9b7a-7a934c247175",
   "metadata": {
    "language": "sql",
    "name": "set_flower_name",
    "collapsed": false
   },
   "outputs": [],
   "source": "set fn = 'Tulip';",
   "execution_count": null
  },
  {
   "cell_type": "code",
   "id": "c37e8445-4afd-452d-824f-4cab58fad8f6",
   "metadata": {
    "language": "sql",
    "name": "check_my_variables",
    "collapsed": false
   },
   "outputs": [],
   "source": "select $fn, $rdc;",
   "execution_count": null
  },
  {
   "cell_type": "code",
   "id": "3f31b6e7-4ad7-4216-8235-0532b2feb5d6",
   "metadata": {
    "language": "sql",
    "name": "insert_row",
    "collapsed": false
   },
   "outputs": [],
   "source": "insert into garden_plants.flowers.flower_details\nselect $fn, $rdc;",
   "execution_count": null
  },
  {
   "cell_type": "code",
   "id": "19310d21-0f7e-465a-80e4-9828821451fa",
   "metadata": {
    "language": "sql",
    "name": "check_the_table",
    "collapsed": false
   },
   "outputs": [],
   "source": "select * from garden_plants.flowers.flower_details",
   "execution_count": null
  }
 ]
}
